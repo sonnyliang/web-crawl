{
 "cells": [
  {
   "cell_type": "code",
   "execution_count": 1,
   "metadata": {},
   "outputs": [],
   "source": [
    "import requests"
   ]
  },
  {
   "cell_type": "markdown",
   "metadata": {},
   "source": [
    "解析一级网站，获取不同国家的列表"
   ]
  },
  {
   "cell_type": "code",
   "execution_count": 2,
   "metadata": {},
   "outputs": [],
   "source": [
    "url = \"https://www.directoriodefabricas.com/productos/fabricantes-de-envases.html\"\n",
    "response = requests.get(url).content"
   ]
  },
  {
   "cell_type": "code",
   "execution_count": 3,
   "metadata": {},
   "outputs": [],
   "source": [
    "from bs4 import BeautifulSoup\n",
    "soup= BeautifulSoup(response, 'lxml')"
   ]
  },
  {
   "cell_type": "code",
   "execution_count": 4,
   "metadata": {},
   "outputs": [],
   "source": [
    "ListTitle = soup.find_all(\"a\",attrs={\"class\":\"dir-IndicLiLinks1\"})"
   ]
  },
  {
   "cell_type": "code",
   "execution_count": 5,
   "metadata": {},
   "outputs": [],
   "source": [
    "import re\n",
    "pattern = re.compile(r\">(.*?)</a>\")\n",
    "List = pattern.findall(str(ListTitle))"
   ]
  },
  {
   "cell_type": "code",
   "execution_count": 6,
   "metadata": {},
   "outputs": [],
   "source": [
    "pattern_link=re.compile(r\"href=\\\"(.*?)\\\"\")\n",
    "List_link = pattern_link.findall(str(ListTitle))"
   ]
  },
  {
   "cell_type": "markdown",
   "metadata": {},
   "source": [
    "把国家与对应的网址，整合进列表"
   ]
  },
  {
   "cell_type": "code",
   "execution_count": 7,
   "metadata": {},
   "outputs": [],
   "source": [
    "Dict1 ={}\n",
    "for i in range(len(List)):\n",
    "    Dict1[List[i]]=List_link[i]"
   ]
  },
  {
   "cell_type": "markdown",
   "metadata": {},
   "source": [
    "定义爬取各详细页资料的方法"
   ]
  },
  {
   "cell_type": "code",
   "execution_count": 8,
   "metadata": {},
   "outputs": [],
   "source": [
    "def get_data(url):\n",
    "    list2=[]\n",
    "    response = requests.get(url).content\n",
    "    soup = BeautifulSoup(response,'lxml')\n",
    "    Data_Nombre = soup.find_all(\"div\",attrs={\"class\":\"dir-LinkDiv1\"})\n",
    "    pattern_Nombre = re.compile(r\">(.*?)</div>\")\n",
    "    Nombre = pattern_Nombre.findall(str(Data_Nombre))\n",
    "    Data_Sitio1 = soup.find_all(\"a\",attrs={\"class\":\"dir-LinksDivDecor1\"})\n",
    "    Data_Sitio2 = soup.find_all(\"a\",attrs={\"class\":\"dir-WebLinkDivDecor1\"})\n",
    "    # 据观察，网址的class类型 有两种变化，需要进行判断，选择对应的class进行解析\n",
    "    pattern_Sitio=re.compile(r\"href=\\\"(.*?)\\\"\")\n",
    "    if Data_Sitio1:\n",
    "        Link = pattern_Sitio.findall(str(Data_Sitio1))\n",
    "    else:\n",
    "        Link = pattern_Sitio.findall(str(Data_Sitio2))\n",
    "    Data_Des = soup.find_all(\"div\",attrs={\"class\":\"dir-LinkDiv2\"})\n",
    "    pattern_Des=re.compile(r\">(.*?)</div>\")\n",
    "    Des = pattern_Des.findall(str(Data_Des))\n",
    "    try:\n",
    "        for i in range(len(Link)):\n",
    "            list2.append({\"Nombre\":Nombre[i],\"Link\":Link[i],\"Des\":Des[i]})\n",
    "    except:\n",
    "        print('something wrong')\n",
    "    return list2"
   ]
  },
  {
   "cell_type": "code",
   "execution_count": 9,
   "metadata": {},
   "outputs": [],
   "source": [
    "import csv"
   ]
  },
  {
   "cell_type": "code",
   "execution_count": 10,
   "metadata": {
    "scrolled": true
   },
   "outputs": [
    {
     "name": "stdout",
     "output_type": "stream"
    }
   ],
   "source": [
    "for key, value in Dict1.items():\n",
    "    url = value\n",
    "    list2 = get_data(url)\n",
    "    fieldnames = ['Nombre', 'Link','Des']\n",
    "    with open(\"./\"+key+'.csv','w',encoding='utf-8') as file:\n",
    "        writer = csv.DictWriter(file, fieldnames=fieldnames)\n",
    "        for item in list2:\n",
    "            writer.writerow(item)\n",
    "        file.close()"
   ]
  }
 ],
 "metadata": {
  "kernelspec": {
   "display_name": "Python [conda env:py3]",
   "language": "python",
   "name": "conda-env-py3-py"
  },
  "language_info": {
   "codemirror_mode": {
    "name": "ipython",
    "version": 3
   },
   "file_extension": ".py",
   "mimetype": "text/x-python",
   "name": "python",
   "nbconvert_exporter": "python",
   "pygments_lexer": "ipython3",
   "version": "3.6.5"
  }
 },
 "nbformat": 4,
 "nbformat_minor": 2
}
