{
 "cells": [
  {
   "cell_type": "code",
   "execution_count": 1,
   "metadata": {},
   "outputs": [],
   "source": [
    "from selenium import webdriver\n",
    "from selenium.webdriver.support.ui import WebDriverWait\n",
    "from selenium.webdriver.support import expected_conditions as EC\n",
    "from selenium.webdriver.common.by import By\n",
    "from pyquery import PyQuery as pq\n",
    "import time"
   ]
  },
  {
   "cell_type": "code",
   "execution_count": 2,
   "metadata": {},
   "outputs": [],
   "source": [
    "import re\n",
    "import csv\n",
    "import requests\n",
    "from urllib import parse\n",
    "from tqdm import tqdm\n",
    "from urllib.parse import urlencode\n",
    "from requests.exceptions import RequestException\n",
    "from bs4 import BeautifulSoup as bs"
   ]
  },
  {
   "cell_type": "markdown",
   "metadata": {},
   "source": [
    "# 解析网页"
   ]
  },
  {
   "cell_type": "code",
   "execution_count": 3,
   "metadata": {
    "scrolled": true
   },
   "outputs": [],
   "source": [
    "def parseWeb(page):\n",
    "# 第一次用pyquery解析\n",
    "    html = pq(page)\n",
    "# 第二次用beautifulsoup提取出表格数据\n",
    "    soup =bs(str(html),'lxml')\n",
    "    items=soup.select(\"#Querytable > div > table > tbody\")\n",
    "# 第三次用beautifulsoup提取a标签\n",
    "    items=str(items)\n",
    "    soup2=bs(items,'lxml')\n",
    "    items2 = soup2.select('tbody a')\n",
    "# 返回提取的a标签列表\n",
    "    return items2"
   ]
  },
  {
   "cell_type": "markdown",
   "metadata": {},
   "source": [
    "# 匹配参数"
   ]
  },
  {
   "cell_type": "code",
   "execution_count": 4,
   "metadata": {},
   "outputs": [],
   "source": [
    "# 用正则表达式匹配目标参数\n",
    "def get_data(items2):\n",
    "    pattern = re.compile(r'title=\\\"(.*?)\\\"')\n",
    "    content = pattern.findall(str(items2))\n",
    "# 返回匹配到的内容列表\n",
    "    return content"
   ]
  },
  {
   "cell_type": "markdown",
   "metadata": {},
   "source": [
    "# 整理字典，传入列表"
   ]
  },
  {
   "cell_type": "code",
   "execution_count": 5,
   "metadata": {},
   "outputs": [],
   "source": [
    "# 把supplier,buyer,desc,country,code作为一个字典，存入customsData\n",
    "def data_list(content):\n",
    "    customsData = []\n",
    "    i=0\n",
    "    j=1\n",
    "    k=2\n",
    "    l=3\n",
    "    m=4\n",
    "    \n",
    "    while m <len(content)-1:\n",
    "        item={}\n",
    "        item['supplier']=content[i]\n",
    "        i=i+5\n",
    "        item['buyer']=content[j]\n",
    "        j=j+5\n",
    "        item['desc']=content[k]\n",
    "        k=k+5\n",
    "        item['country']=content[l]\n",
    "        l=l+5\n",
    "        item['code']=content[m]\n",
    "        m=m+5\n",
    "        customsData.append(item)\n",
    "    return customsData"
   ]
  },
  {
   "cell_type": "markdown",
   "metadata": {},
   "source": [
    "# 写入文件"
   ]
  },
  {
   "cell_type": "code",
   "execution_count": 6,
   "metadata": {},
   "outputs": [],
   "source": [
    "def write_csv(customsData):\n",
    "    with open('CustomsData.csv','a',newline='',encoding='utf-8') as csvfile:\n",
    "        writer = csv.writer(csvfile)\n",
    "        for i in range(len(customsData)):\n",
    "            item =[]\n",
    "            for key,value in customsData[i].items():\n",
    "                item.append(value)\n",
    "            writer.writerow(item)"
   ]
  },
  {
   "cell_type": "markdown",
   "metadata": {},
   "source": [
    "# 主程序\n",
    "1. 需要添加异常处理\n",
    "2. 需要添加验证码处理"
   ]
  },
  {
   "cell_type": "code",
   "execution_count": 7,
   "metadata": {},
   "outputs": [],
   "source": [
    "browser = webdriver.Chrome()\n",
    "start_url=\"http://my.tradestudy.cn/customs/?country=ecuador&start=2012-01-01&end=2018-05-10&product_desc=masterbatch&pn=1&order=desc\"\n",
    "browser.get(start_url)\n",
    "# 登陆\n",
    "browser.find_element_by_css_selector(\"#signIn > dl > dd:nth-child(1) > input\").send_keys(\"13106740699\")  \n",
    "browser.find_element_by_css_selector(\"#signIn > dl > dd:nth-child(2) > input\").send_keys(\"5927971479\")  \n",
    "browser.find_element_by_css_selector(\"#signIn > input\").click() \n",
    "time.sleep(5)\n",
    "page = browser.page_source\n",
    "Webcontent = parseWeb(page)\n",
    "TargetData = get_data(Webcontent)\n",
    "CustomsData=data_list(TargetData)\n",
    "record_data = write_csv(CustomsData)\n",
    "time.sleep(5)"
   ]
  },
  {
   "cell_type": "code",
   "execution_count": 8,
   "metadata": {},
   "outputs": [],
   "source": [
    "p = 2\n",
    "try:\n",
    "    while p < 101:\n",
    "        paras ={\n",
    "            'country':'ecuador',\n",
    "            'start':'2012-01-01',\n",
    "            'end': '2018-05-10',\n",
    "            'product_desc': 'masterbatch',\n",
    "            'pn':str(p),\n",
    "            'order': 'desc'\n",
    "            }\n",
    "        url = 'http://my.tradestudy.cn/customs/?'+ urlencode(paras)\n",
    "        browser.get(url)\n",
    "        time.sleep(5)\n",
    "        WebDriverWait(browser, 10).until(\n",
    "        EC.presence_of_element_located((By.CLASS_NAME, \"nubTool\")))\n",
    "        page = browser.page_source\n",
    "        Webcontent = parseWeb(page)\n",
    "        TargetData = get_data(Webcontent)\n",
    "        CustomsData=data_list(TargetData)\n",
    "        record_data = write_csv(CustomsData)\n",
    "        p+=1\n",
    "        time.sleep(5)\n",
    "except:\n",
    "    print('something wrong')"
   ]
  },
  {
   "cell_type": "code",
   "execution_count": null,
   "metadata": {},
   "outputs": [],
   "source": []
  }
 ],
 "metadata": {
  "kernelspec": {
   "display_name": "Python [conda env:py3]",
   "language": "python",
   "name": "conda-env-py3-py"
  },
  "language_info": {
   "codemirror_mode": {
    "name": "ipython",
    "version": 3
   },
   "file_extension": ".py",
   "mimetype": "text/x-python",
   "name": "python",
   "nbconvert_exporter": "python",
   "pygments_lexer": "ipython3",
   "version": "3.6.5"
  }
 },
 "nbformat": 4,
 "nbformat_minor": 2
}
